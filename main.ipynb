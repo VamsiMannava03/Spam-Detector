{
 "cells": [
  {
   "cell_type": "code",
   "execution_count": 35,
   "metadata": {},
   "outputs": [],
   "source": [
    "import numpy as np\n",
    "import pandas as pd\n",
    "import matplotlib.pyplot as plt\n",
    "from sklearn.model_selection import train_test_split\n",
    "from sklearn.linear_model import LogisticRegression\n",
    "from sklearn.feature_extraction.text import CountVectorizer\n",
    "from sklearn.feature_extraction.text import TfidfVectorizer\n",
    "from sklearn.metrics import accuracy_score, confusion_matrix, ConfusionMatrixDisplay, classification_report\n",
    "from sklearn.model_selection import cross_val_score\n"
   ]
  },
  {
   "cell_type": "code",
   "execution_count": 36,
   "metadata": {},
   "outputs": [
    {
     "name": "stdout",
     "output_type": "stream",
     "text": [
      "(83448, 2)\n"
     ]
    }
   ],
   "source": [
    "#load dataset and preview it\n",
    "\n",
    "df = pd.read_csv('email_set.csv')\n",
    "\n",
    "print(df.shape)\n",
    "\n",
    "X = df['text']\n",
    "y = df['label']\n",
    "\n",
    "vectorizer = TfidfVectorizer(\n",
    "    max_features = 5000,\n",
    "    min_df = 5,\n",
    "    stop_words = 'english'\n",
    ")\n",
    "\n",
    "X_train, X_test, y_train, y_test = train_test_split( X, y, test_size = 0.2, random_state = 42, stratify = y )\n",
    "\n",
    "#Convert text into numerical features because logistic regression in scikit-learn cannot work with raw-text \n",
    "\n",
    "X_train_vec = vectorizer.fit_transform(X_train)\n",
    "\n",
    "X_test_vec = vectorizer.transform(X_test)\n"
   ]
  },
  {
   "cell_type": "code",
   "execution_count": 37,
   "metadata": {},
   "outputs": [],
   "source": [
    "#create training model based and use it to test\n",
    "model = LogisticRegression(max_iter = 100, C = 0.3)\n",
    "\n",
    "#trains model on the 80% of the data\n",
    "model.fit(X_train_vec, y_train)\n",
    "\n",
    "y_pred = model.predict(X_test_vec)\n",
    "\n",
    "#the training accuracy is greater than the test accuracy. CLear sign of overfitting, change C parameter \n"
   ]
  },
  {
   "cell_type": "code",
   "execution_count": 38,
   "metadata": {},
   "outputs": [
    {
     "name": "stdout",
     "output_type": "stream",
     "text": [
      "Training Accuracy: 0.9801671709757632\n",
      "Testing Accuracy: 0.979089275014979\n",
      "----------------------------------------\n",
      "Confusion matrix displayed above\n",
      "----------------------------------------\n",
      "Classification Report:\n",
      "\n",
      "              precision    recall  f1-score   support\n",
      "\n",
      "           0       0.98      0.97      0.98      7908\n",
      "           1       0.97      0.99      0.98      8782\n",
      "\n",
      "    accuracy                           0.98     16690\n",
      "   macro avg       0.98      0.98      0.98     16690\n",
      "weighted avg       0.98      0.98      0.98     16690\n",
      "\n",
      "----------------------------------------\n",
      "5-Fold Cross-Validation Accuracy (Train Set): [0.97828041 0.97708209 0.97790593 0.97655606 0.97648116]\n",
      "Mean CV Accuracy: 0.9772611299764181\n"
     ]
    },
    {
     "data": {
      "image/png": "[encoded data removed]",
      "text/plain": [
       "<Figure size 640x480 with 2 Axes>"
      ]
     },
     "metadata": {},
     "output_type": "display_data"
    }
   ],
   "source": [
    "# evaluating the model\n",
    "\n",
    "# --- 1. Accuracy ---\n",
    "train_acc = accuracy_score(y_train, model.predict(X_train_vec))\n",
    "test_acc = accuracy_score(y_test, y_pred)\n",
    "\n",
    "print(\"Training Accuracy:\", train_acc)\n",
    "print(\"Testing Accuracy:\", test_acc)\n",
    "print(\"-\" * 40)\n",
    "\n",
    "# --- 2. Confusion Matrix ---\n",
    "cm = confusion_matrix(y_test, y_pred, labels=model.classes_)\n",
    "disp = ConfusionMatrixDisplay(confusion_matrix=cm, display_labels=model.classes_)\n",
    "disp.plot(cmap='Blues', values_format='d')\n",
    "print(\"Confusion matrix displayed above\")\n",
    "print(\"-\" * 40)\n",
    "\n",
    "# --- 3. Precision, Recall, F1-Score ---\n",
    "print(\"Classification Report:\\n\")\n",
    "print(classification_report(y_test, y_pred))\n",
    "print(\"-\" * 40)\n",
    "\n",
    "# --- 4. Cross-Validation on training set ---\n",
    "cv_scores = cross_val_score(model, X_train_vec, y_train, cv=5)\n",
    "print(\"5-Fold Cross-Validation Accuracy (Train Set):\", cv_scores)\n",
    "print(\"Mean CV Accuracy:\", cv_scores.mean())\n"
   ]
  }
 ],
 "metadata": {
  "kernelspec": {
   "display_name": "Python 3.13 (spam-detector)",
   "language": "python",
   "name": "spam-detector"
  },
  "language_info": {
   "codemirror_mode": {
    "name": "ipython",
    "version": 3
   },
   "file_extension": ".py",
   "mimetype": "text/x-python",
   "name": "python",
   "nbconvert_exporter": "python",
   "pygments_lexer": "ipython3",
   "version": "3.13.2"
  }
 },
 "nbformat": 4,
 "nbformat_minor": 2
}
